{
 "cells": [
  {
   "cell_type": "markdown",
   "id": "09b96a65",
   "metadata": {},
   "source": [
    "# pFGW Framework for Feature Matching & Tracking"
   ]
  },
  {
   "cell_type": "code",
   "execution_count": 5,
   "id": "b8a2a508",
   "metadata": {
    "scrolled": false,
    "tags": []
   },
   "outputs": [
    {
     "ename": "ModuleNotFoundError",
     "evalue": "No module named 'ot'",
     "output_type": "error",
     "traceback": [
      "\u001b[0;31m---------------------------------------------------------------------------\u001b[0m",
      "\u001b[0;31mModuleNotFoundError\u001b[0m                       Traceback (most recent call last)",
      "\u001b[0;32m<ipython-input-5-5d72ea4e9648>\u001b[0m in \u001b[0;36m<module>\u001b[0;34m\u001b[0m\n\u001b[0;32m----> 1\u001b[0;31m \u001b[0;32mfrom\u001b[0m \u001b[0mGWMT\u001b[0m \u001b[0;32mimport\u001b[0m \u001b[0;34m*\u001b[0m\u001b[0;34m\u001b[0m\u001b[0;34m\u001b[0m\u001b[0m\n\u001b[0m\u001b[1;32m      2\u001b[0m \u001b[0;32mimport\u001b[0m \u001b[0mreadMergeTree\u001b[0m \u001b[0;32mas\u001b[0m \u001b[0mrmt\u001b[0m\u001b[0;34m\u001b[0m\u001b[0;34m\u001b[0m\u001b[0m\n\u001b[1;32m      3\u001b[0m \u001b[0;32mimport\u001b[0m \u001b[0mos\u001b[0m\u001b[0;34m\u001b[0m\u001b[0;34m\u001b[0m\u001b[0m\n\u001b[1;32m      4\u001b[0m \u001b[0;32mimport\u001b[0m \u001b[0mnetworkx\u001b[0m \u001b[0;32mas\u001b[0m \u001b[0mnx\u001b[0m\u001b[0;34m\u001b[0m\u001b[0;34m\u001b[0m\u001b[0m\n",
      "\u001b[0;32m~/Desktop/GWMT-clean/GWMT.py\u001b[0m in \u001b[0;36m<module>\u001b[0;34m\u001b[0m\n\u001b[1;32m      1\u001b[0m \u001b[0;32mfrom\u001b[0m \u001b[0mutilities\u001b[0m \u001b[0;32mimport\u001b[0m \u001b[0;34m*\u001b[0m\u001b[0;34m\u001b[0m\u001b[0;34m\u001b[0m\u001b[0m\n\u001b[0;32m----> 2\u001b[0;31m \u001b[0;32mfrom\u001b[0m \u001b[0mFGW\u001b[0m \u001b[0;32mimport\u001b[0m \u001b[0mfgw_lp\u001b[0m\u001b[0;34m,\u001b[0m \u001b[0mfgw_partial_lp\u001b[0m\u001b[0;34m\u001b[0m\u001b[0;34m\u001b[0m\u001b[0m\n\u001b[0m\u001b[1;32m      3\u001b[0m \u001b[0;32mfrom\u001b[0m \u001b[0moptim\u001b[0m \u001b[0;32mimport\u001b[0m \u001b[0mNonConvergenceError\u001b[0m\u001b[0;34m\u001b[0m\u001b[0;34m\u001b[0m\u001b[0m\n\u001b[1;32m      4\u001b[0m \u001b[0;32mimport\u001b[0m \u001b[0mtime\u001b[0m\u001b[0;34m\u001b[0m\u001b[0;34m\u001b[0m\u001b[0m\n\u001b[1;32m      5\u001b[0m \u001b[0;34m\u001b[0m\u001b[0m\n",
      "\u001b[0;32m~/Desktop/GWMT-clean/FGW.py\u001b[0m in \u001b[0;36m<module>\u001b[0;34m\u001b[0m\n\u001b[1;32m      2\u001b[0m \u001b[0;34m\u001b[0m\u001b[0m\n\u001b[1;32m      3\u001b[0m \u001b[0;32mimport\u001b[0m \u001b[0mnumpy\u001b[0m \u001b[0;32mas\u001b[0m \u001b[0mnp\u001b[0m\u001b[0;34m\u001b[0m\u001b[0;34m\u001b[0m\u001b[0m\n\u001b[0;32m----> 4\u001b[0;31m \u001b[0;32mimport\u001b[0m \u001b[0mot\u001b[0m\u001b[0;34m\u001b[0m\u001b[0;34m\u001b[0m\u001b[0m\n\u001b[0m\u001b[1;32m      5\u001b[0m \u001b[0;32mimport\u001b[0m \u001b[0moptim\u001b[0m\u001b[0;34m\u001b[0m\u001b[0;34m\u001b[0m\u001b[0m\n\u001b[1;32m      6\u001b[0m \u001b[0;31m# from utils import dist,reshaper\u001b[0m\u001b[0;34m\u001b[0m\u001b[0;34m\u001b[0m\u001b[0;34m\u001b[0m\u001b[0m\n",
      "\u001b[0;31mModuleNotFoundError\u001b[0m: No module named 'ot'"
     ]
    }
   ],
   "source": [
    "import ot\n",
    "from GWMT import *\n",
    "import readMergeTree as rmt\n",
    "import os\n",
    "import networkx as nx"
   ]
  },
  {
   "cell_type": "markdown",
   "id": "1a8460f2",
   "metadata": {},
   "source": [
    "## Data Input "
   ]
  },
  {
   "cell_type": "markdown",
   "id": "d510d81b",
   "metadata": {},
   "source": [
    "This is an example to read our preset datasets. Our merge tree data is split into two files: ``treeEdges_monoMesh_*.txt`` and ``treeNodes_monoMesh_*.txt``, representing the data for tree edges and tree nodes, respectively.\n",
    "\n",
    "To read your own dataset, your tree data should be saved in a ``nx.Graph`` object, in which each node has properties for its spacial coordinates (e.g., \"x\", \"y\"), its scalar value (e.g., \"height\"), and its critical type (0: minimum, 1: saddle, 2: maximum. This setting cannot be changed). \n",
    "Besides, you also need to provide the node id for the root node of the tree.\n",
    "\n",
    "The tree data should be stored in a ``GWMergeTree`` object.\n",
    "\n",
    "==========================================================\n",
    "\n",
    "Our tree edge data format:\n",
    "\n",
    "a_0, b_0  \n",
    "a_1, b_1  \n",
    "...  \n",
    "a_{|E|-1}, b_{|E|-1}\n",
    "\n",
    "Each row describes the indices of two nodes that the edge connecting in between. Edges are undirected.\n",
    "\n",
    "==========================================================\n",
    "\n",
    "Our tree node data format:\n",
    "\n",
    "x_0, y_0, z_0, scalar_0, type_0  \n",
    "x_1, y_1, z_1, scalar_1, type_1  \n",
    "...  \n",
    "x_{|V|-1}, y_{|V|-1}, z_{|V|-1}, scalar_{|V|-1}, type_{|V|-1}\n",
    "\n",
    "Each row has five components: the \"x\", \"y\", \"z\" coordinates, the scalar value, and the critical point type for the node.\n"
   ]
  },
  {
   "cell_type": "code",
   "execution_count": 1,
   "id": "e54b0f27",
   "metadata": {},
   "outputs": [
    {
     "ename": "NameError",
     "evalue": "name 'rmt' is not defined",
     "output_type": "error",
     "traceback": [
      "\u001b[0;31m---------------------------------------------------------------------------\u001b[0m",
      "\u001b[0;31mNameError\u001b[0m                                 Traceback (most recent call last)",
      "\u001b[0;32m/var/folders/cw/gg6bfn451cb_p4y6tkb89vmh0000gn/T/ipykernel_31485/903661095.py\u001b[0m in \u001b[0;36m<module>\u001b[0;34m\u001b[0m\n\u001b[1;32m     25\u001b[0m     \u001b[0;31m# (Avoid specifying merge tree type to avoid confusion between split tree and join tree in different contexts)\u001b[0m\u001b[0;34m\u001b[0m\u001b[0;34m\u001b[0m\u001b[0;34m\u001b[0m\u001b[0m\n\u001b[1;32m     26\u001b[0m     \u001b[0;32mfor\u001b[0m \u001b[0mfile\u001b[0m \u001b[0;32min\u001b[0m \u001b[0mtxt_files\u001b[0m\u001b[0;34m:\u001b[0m\u001b[0;34m\u001b[0m\u001b[0;34m\u001b[0m\u001b[0m\n\u001b[0;32m---> 27\u001b[0;31m         \u001b[0mtrees\u001b[0m\u001b[0;34m,\u001b[0m \u001b[0mroots\u001b[0m \u001b[0;34m=\u001b[0m \u001b[0mrmt\u001b[0m\u001b[0;34m.\u001b[0m\u001b[0mget_trees\u001b[0m\u001b[0;34m(\u001b[0m\u001b[0mos\u001b[0m\u001b[0;34m.\u001b[0m\u001b[0mpath\u001b[0m\u001b[0;34m.\u001b[0m\u001b[0mjoin\u001b[0m\u001b[0;34m(\u001b[0m\u001b[0mdataset_path\u001b[0m\u001b[0;34m,\u001b[0m \u001b[0mfile\u001b[0m\u001b[0;34m)\u001b[0m\u001b[0;34m,\u001b[0m \u001b[0mroot_type\u001b[0m\u001b[0;34m=\u001b[0m\u001b[0;34m\"minimum\"\u001b[0m\u001b[0;34m)\u001b[0m\u001b[0;34m\u001b[0m\u001b[0;34m\u001b[0m\u001b[0m\n\u001b[0m\u001b[1;32m     28\u001b[0m         \u001b[0mmt_list\u001b[0m\u001b[0;34m.\u001b[0m\u001b[0mextend\u001b[0m\u001b[0;34m(\u001b[0m\u001b[0mtrees\u001b[0m\u001b[0;34m)\u001b[0m\u001b[0;34m\u001b[0m\u001b[0;34m\u001b[0m\u001b[0m\n\u001b[1;32m     29\u001b[0m         \u001b[0mroot_list\u001b[0m\u001b[0;34m.\u001b[0m\u001b[0mextend\u001b[0m\u001b[0;34m(\u001b[0m\u001b[0mroots\u001b[0m\u001b[0;34m)\u001b[0m\u001b[0;34m\u001b[0m\u001b[0;34m\u001b[0m\u001b[0m\n",
      "\u001b[0;31mNameError\u001b[0m: name 'rmt' is not defined"
     ]
    }
   ],
   "source": [
    "# dataset choices: [\"HeatedCylinder\", \"IonizationFront\", \"UnsteadyCylinderFlow\", \"VortexStreet\"]\n",
    "dataset = \"VortexStreet\"\n",
    "dataset_path = os.path.join(\"data\", dataset)\n",
    "\n",
    "mt_list = []\n",
    "root_list = []\n",
    "for _, _, files in os.walk(dataset_path):\n",
    "\n",
    "    def key(s):\n",
    "        try:\n",
    "            int(s)\n",
    "            return int(s)\n",
    "        except ValueError:\n",
    "            return len(files) + 1\n",
    "\n",
    "    def endsWithTxt(s: str):\n",
    "        if s.endswith(\".txt\"):\n",
    "            return True\n",
    "        return False\n",
    "\n",
    "    txt_files = list(filter(endsWithTxt, files))\n",
    "    txt_files.sort(key=lambda x: key(x.split(\".\")[0].split(\"_\")[-1]))\n",
    "    \n",
    "    # You need to specify the root node type. Choices: [\"minimum\", \"maximum\"]\n",
    "    # (Avoid specifying merge tree type to avoid confusion between split tree and join tree in different contexts)\n",
    "    for file in txt_files:\n",
    "        trees, roots = rmt.get_trees(os.path.join(dataset_path, file), root_type=\"minimum\")\n",
    "        mt_list.extend(trees)\n",
    "        root_list.extend(roots)\n",
    "\n",
    "assert (len(root_list) == len(mt_list))\n",
    "gwmt_list = [GWMergeTree(mt_list[i], root_list[i]) for i in range(len(mt_list))]"
   ]
  },
  {
   "cell_type": "markdown",
   "id": "f7ccc809",
   "metadata": {},
   "source": [
    "## Parameter Initialization\n",
    "\n",
    "We now specify the parameters to be passed to the pFGW framework, including the following:\n",
    "\n",
    "*spacial_scale*: a float number denoting the spacial length of the scalar field. (e.g., $max(height, width)$ for a 2D rectangular scalar field).  \n",
    "         This is needed for normalizing the spacial coordinates for nodes.  \n",
    "         This number can be flexible. However, it affects the optimal $\\alpha$ value. Please make sure that the normalization is reasonable. A recommended range for the maximum Euclidean distance between any pair of critical points after normalization is $[0.5, 2.0]$.\n",
    "         \n",
    "\n",
    "*labels*: a list of strings denoting the spacial coordinate labels. (e.g., [\"x\", \"y\"] for a 2D scalar field)\n",
    "\n",
    "*scalar_name*: the name of the scalar field in GWMergeTree objects.\n",
    "\n",
    "*edge_weight_name*: the name of the weight of edges in GWMergeTree objects.\n",
    "\n",
    "*weight_mode*: the strategy to encode $W$. Choices: [\"shortestpath\", \"lca\"].\n",
    "\n",
    "*prob_distribution*: the strategy to encode $p$. Choices: [\"uniform\", \"ancestor\"]"
   ]
  },
  {
   "cell_type": "code",
   "execution_count": 58,
   "id": "50574dc7",
   "metadata": {},
   "outputs": [],
   "source": [
    "spacial_scale_dict = {\n",
    "    \"HeatedCylinder\": 3,\n",
    "    \"UnsteadyCylinderFlow\": 10,\n",
    "    \"IonizationFront\": 600,\n",
    "    \"VortexStreet\": 749,\n",
    "}\n",
    "\n",
    "labels_dict = {\n",
    "    \"HeatedCylinder\": [\"x\", \"y\", \"z\"],\n",
    "    \"UnsteadyCylinderFlow\": [\"x\", \"y\", \"z\"],\n",
    "    \"IonizationFront\": [\"x\", \"y\", \"z\"],\n",
    "    \"VortexStreet\": [\"x\", \"y\", \"z\"],\n",
    "}\n",
    "\n",
    "scalar_name_dict = {\n",
    "    \"HeatedCylinder\": \"height\",\n",
    "    \"UnsteadyCylinderFlow\": \"height\",\n",
    "    \"IonizationFront\": \"height\",\n",
    "    \"VortexStreet\": \"height\",\n",
    "}\n",
    "\n",
    "edge_weight_name_dict = {\n",
    "    \"HeatedCylinder\": \"weight\",\n",
    "    \"UnsteadyCylinderFlow\": \"weight\",\n",
    "    \"IonizationFront\": \"weight\",\n",
    "    \"VortexStreet\": \"weight\",\n",
    "}\n",
    "\n",
    "weight_mode_dict = {\n",
    "    \"HeatedCylinder\": \"shortestpath\",\n",
    "    \"UnsteadyCylinderFlow\": \"shortestpath\",\n",
    "    \"IonizationFront\": \"shortestpath\",\n",
    "    \"VortexStreet\": \"shortestpath\",\n",
    "}\n",
    "\n",
    "prob_distribution_dict = {\n",
    "    \"HeatedCylinder\": \"uniform\",\n",
    "    \"UnsteadyCylinderFlow\": \"uniform\",\n",
    "    \"IonizationFront\": \"uniform\",\n",
    "    \"VortexStreet\": \"uniform\",\n",
    "}"
   ]
  },
  {
   "cell_type": "code",
   "execution_count": 59,
   "id": "8d9819ff",
   "metadata": {},
   "outputs": [],
   "source": [
    "spacial_scale = spacial_scale_dict[dataset]\n",
    "labels = labels_dict[dataset]\n",
    "scalar_name = scalar_name_dict[dataset]\n",
    "edge_weight_name = edge_weight_name_dict[dataset]\n",
    "weight_mode = weight_mode_dict[dataset]\n",
    "prob_distribution = prob_distribution_dict[dataset]"
   ]
  },
  {
   "cell_type": "code",
   "execution_count": 60,
   "id": "305bea04",
   "metadata": {},
   "outputs": [],
   "source": [
    "# Validify the GWMergeTree object. This is not mandatory, but recommended to check whether your data input format is correct\n",
    "for tree in gwmt_list:\n",
    "    tree.label_validation(labels, scalar_name, edge_weight_name)"
   ]
  },
  {
   "cell_type": "markdown",
   "id": "d37304c4",
   "metadata": {},
   "source": [
    "## Framework Initialization\n",
    "\n",
    "Initializing the pFGW framework with given parameters and data input. There is an output for the normalization process consisting $L+1$ elements, where the first $L$ elements are $\\frac{1}{rescaling\\_factor}$ for coordinate labels ($L$ coordinate labels in total), and the last element is $\\frac{1}{rescaling\\_factor}$ for scalar function values."
   ]
  },
  {
   "cell_type": "code",
   "execution_count": 61,
   "id": "80fe6301",
   "metadata": {},
   "outputs": [
    {
     "name": "stdout",
     "output_type": "stream",
     "text": [
      "Scale: [749.     749.     749.      49.2929]\n"
     ]
    }
   ],
   "source": [
    "pfgw = GWTracking(\n",
    "    gwmt_list,\n",
    "    spacial_scale,\n",
    "    labels,\n",
    "    scalar_name,\n",
    "    edge_weight_name,\n",
    "    weight_mode,\n",
    "    prob_distribution\n",
    ")"
   ]
  },
  {
   "cell_type": "markdown",
   "id": "d7b723f7",
   "metadata": {},
   "source": [
    "## Loading Parameter Preset\n",
    "\n",
    "We have provided the tuned parameters for each dataset. We can load them and get the tuned tracking result."
   ]
  },
  {
   "cell_type": "code",
   "execution_count": 141,
   "id": "2ccabb9a",
   "metadata": {},
   "outputs": [],
   "source": [
    "alpha_dict = {\n",
    "    \"HeatedCylinder\": 0.1,\n",
    "    \"IonizationFront\": 0.4,\n",
    "    \"UnsteadyCylinderFlow\": 0.1,\n",
    "    \"VortexStreet\": 0.1,\n",
    "}\n",
    "\n",
    "m_list_path = os.path.join(\"parameter-preset\", dataset)\n",
    "m_list = np.loadtxt(os.path.join(m_list_path, \"m-list.txt\")).reshape(-1, )\n",
    "\n",
    "alpha = alpha_dict[dataset]"
   ]
  },
  {
   "cell_type": "code",
   "execution_count": 142,
   "id": "0eb3b825",
   "metadata": {},
   "outputs": [],
   "source": [
    "num_timesteps = len(gwmt_list)\n",
    "assert (len(m_list) == num_timesteps - 1)\n",
    "\n",
    "trajectories, coupling_matrices = pfgw.tracking(\n",
    "    list(range(num_timesteps)),\n",
    "    alpha, \n",
    "    m_list\n",
    ")"
   ]
  },
  {
   "cell_type": "markdown",
   "id": "f96fd214",
   "metadata": {},
   "source": [
    "There are two components for the tracking results.\n",
    "\n",
    "*trajectories*: a dictionary for (trajectory_id, list[TrackInfo]) key-value pairs.  \n",
    "``TrackInfo`` is a class containing the information of a critical point at a specific time step. \n",
    "\n",
    "*coupling_matrices*: a list of coupling matrices for matching between maxima at adjacent time steps.\n",
    "This is needed for probabilistic feature tracking."
   ]
  },
  {
   "cell_type": "code",
   "execution_count": null,
   "id": "d3f41789",
   "metadata": {},
   "outputs": [],
   "source": [
    "# We illustrate the format for trajectories\n",
    "\n",
    "# Note: the trajactory IDs are not necessarily consecutive\n",
    "# because we only keep trajectories for maxima that last for at least two time steps\n",
    "for trajectory_id in trajectories:\n",
    "    nodes = trajectories[trajectory_id]\n",
    "    nodes.sort(key=lambda x: x.time)\n",
    "    print(\"Trajectory\", trajectory_id)\n",
    "    for node in nodes:\n",
    "        print(node)\n",
    "    print(\"=============================\")"
   ]
  },
  {
   "cell_type": "markdown",
   "id": "c135eab4",
   "metadata": {},
   "source": [
    "You can customize your output format based on the demo of output. You can also find the description for the ``TrackInfo`` class in ``./GWMT.py``."
   ]
  },
  {
   "cell_type": "markdown",
   "id": "6e47c09a",
   "metadata": {},
   "source": [
    "## Parameter Tuning\n",
    "\n",
    "We present a demo for our parameter tuning process in this section.\n",
    "\n",
    "This is not the only way for parameter tuning. We aim to optimize the one-to-one matching result in the first place."
   ]
  },
  {
   "cell_type": "code",
   "execution_count": 62,
   "id": "16a21b59",
   "metadata": {},
   "outputs": [],
   "source": [
    "import pandas as pd\n",
    "\n",
    "# The optional parameter \"amijo\" determines the way for OT solver to converge, which may change the result\n",
    "# Either picking False or True follows our framework pipeline. They just may reach different local optimal solutions.\n",
    "amijo_dict = {\n",
    "    \"HeatedCylinder\": False,\n",
    "    \"IonizationFront\": False,\n",
    "    \"UnsteadyCylinderFlow\": False,\n",
    "    \"VortexStreet\": True\n",
    "}\n",
    "\n",
    "amijo = amijo_dict[dataset]\n",
    "\n",
    "num_timesteps = len(gwmt_list)\n",
    "timestep_gap = 1\n",
    "timesteps = list(range(0, num_timesteps, timestep_gap))"
   ]
  },
  {
   "cell_type": "code",
   "execution_count": 27,
   "id": "41e34686",
   "metadata": {},
   "outputs": [
    {
     "ename": "KeyboardInterrupt",
     "evalue": "",
     "output_type": "error",
     "traceback": [
      "\u001b[1;31m---------------------------------------------------------------------------\u001b[0m",
      "\u001b[1;31mKeyboardInterrupt\u001b[0m                         Traceback (most recent call last)",
      "\u001b[1;32m~\\AppData\\Local\\Temp/ipykernel_6592/638493871.py\u001b[0m in \u001b[0;36m<module>\u001b[1;34m\u001b[0m\n\u001b[0;32m     16\u001b[0m \u001b[1;33m\u001b[0m\u001b[0m\n\u001b[0;32m     17\u001b[0m         \u001b[1;31m# The optional parameter \"amijo\" determines the way for OT solver to converge, which may change the result\u001b[0m\u001b[1;33m\u001b[0m\u001b[1;33m\u001b[0m\u001b[1;33m\u001b[0m\u001b[0m\n\u001b[1;32m---> 18\u001b[1;33m         _, _, stat = pfgw.tracking(\n\u001b[0m\u001b[0;32m     19\u001b[0m             \u001b[0mtimesteps\u001b[0m\u001b[1;33m,\u001b[0m\u001b[1;33m\u001b[0m\u001b[1;33m\u001b[0m\u001b[0m\n\u001b[0;32m     20\u001b[0m             \u001b[0malpha\u001b[0m\u001b[1;33m,\u001b[0m\u001b[1;33m\u001b[0m\u001b[1;33m\u001b[0m\u001b[0m\n",
      "\u001b[1;32m~\\Desktop\\GWMT-clean\\GWMT.py\u001b[0m in \u001b[0;36mtracking\u001b[1;34m(self, timesteps, alpha, m_list, log, amijo)\u001b[0m\n\u001b[0;32m    302\u001b[0m             \u001b[0mid2\u001b[0m \u001b[1;33m=\u001b[0m \u001b[0mtimesteps\u001b[0m\u001b[1;33m[\u001b[0m\u001b[0mi\u001b[0m\u001b[1;33m]\u001b[0m\u001b[1;33m\u001b[0m\u001b[1;33m\u001b[0m\u001b[0m\n\u001b[0;32m    303\u001b[0m \u001b[1;33m\u001b[0m\u001b[0m\n\u001b[1;32m--> 304\u001b[1;33m             oc, _ = self.fgw_wrapper(self.CList[id1], self.CList[id2],\n\u001b[0m\u001b[0;32m    305\u001b[0m                                      \u001b[0mself\u001b[0m\u001b[1;33m.\u001b[0m\u001b[0mpList\u001b[0m\u001b[1;33m[\u001b[0m\u001b[0mid1\u001b[0m\u001b[1;33m]\u001b[0m\u001b[1;33m,\u001b[0m \u001b[0mself\u001b[0m\u001b[1;33m.\u001b[0m\u001b[0mpList\u001b[0m\u001b[1;33m[\u001b[0m\u001b[0mid2\u001b[0m\u001b[1;33m]\u001b[0m\u001b[1;33m,\u001b[0m\u001b[1;33m\u001b[0m\u001b[1;33m\u001b[0m\u001b[0m\n\u001b[0;32m    306\u001b[0m                                      \u001b[0mself\u001b[0m\u001b[1;33m.\u001b[0m\u001b[0mhList\u001b[0m\u001b[1;33m[\u001b[0m\u001b[0mid1\u001b[0m\u001b[1;33m]\u001b[0m\u001b[1;33m,\u001b[0m \u001b[0mself\u001b[0m\u001b[1;33m.\u001b[0m\u001b[0mhList\u001b[0m\u001b[1;33m[\u001b[0m\u001b[0mid2\u001b[0m\u001b[1;33m]\u001b[0m\u001b[1;33m,\u001b[0m\u001b[1;33m\u001b[0m\u001b[1;33m\u001b[0m\u001b[0m\n",
      "\u001b[1;32m~\\Desktop\\GWMT-clean\\GWMT.py\u001b[0m in \u001b[0;36mfgw_wrapper\u001b[1;34m(self, C1, C2, p, q, g1, g2, alpha, m, amijo, G0)\u001b[0m\n\u001b[0;32m    215\u001b[0m         \u001b[1;32mfor\u001b[0m \u001b[0mi\u001b[0m \u001b[1;32min\u001b[0m \u001b[0mrange\u001b[0m\u001b[1;33m(\u001b[0m\u001b[0msizeP\u001b[0m\u001b[1;33m)\u001b[0m\u001b[1;33m:\u001b[0m\u001b[1;33m\u001b[0m\u001b[1;33m\u001b[0m\u001b[0m\n\u001b[0;32m    216\u001b[0m             \u001b[1;32mfor\u001b[0m \u001b[0mj\u001b[0m \u001b[1;32min\u001b[0m \u001b[0mrange\u001b[0m\u001b[1;33m(\u001b[0m\u001b[0msizeQ\u001b[0m\u001b[1;33m)\u001b[0m\u001b[1;33m:\u001b[0m\u001b[1;33m\u001b[0m\u001b[1;33m\u001b[0m\u001b[0m\n\u001b[1;32m--> 217\u001b[1;33m                 \u001b[0mM\u001b[0m\u001b[1;33m[\u001b[0m\u001b[0mi\u001b[0m\u001b[1;33m,\u001b[0m \u001b[0mj\u001b[0m\u001b[1;33m]\u001b[0m \u001b[1;33m=\u001b[0m \u001b[0mlabel_distance\u001b[0m\u001b[1;33m(\u001b[0m\u001b[0mg1\u001b[0m\u001b[1;33m[\u001b[0m\u001b[0mi\u001b[0m\u001b[1;33m]\u001b[0m\u001b[1;33m,\u001b[0m \u001b[0mg2\u001b[0m\u001b[1;33m[\u001b[0m\u001b[0mj\u001b[0m\u001b[1;33m]\u001b[0m\u001b[1;33m,\u001b[0m \u001b[0mmetric\u001b[0m\u001b[1;33m=\u001b[0m\u001b[1;34m\"l2\"\u001b[0m\u001b[1;33m)\u001b[0m \u001b[1;33m**\u001b[0m \u001b[1;36m2\u001b[0m\u001b[1;33m\u001b[0m\u001b[1;33m\u001b[0m\u001b[0m\n\u001b[0m\u001b[0;32m    218\u001b[0m \u001b[1;33m\u001b[0m\u001b[0m\n\u001b[0;32m    219\u001b[0m         \u001b[1;32mif\u001b[0m \u001b[0mm\u001b[0m \u001b[1;33m<\u001b[0m \u001b[1;36m1\u001b[0m\u001b[1;33m:\u001b[0m\u001b[1;33m\u001b[0m\u001b[1;33m\u001b[0m\u001b[0m\n",
      "\u001b[1;32m~\\Desktop\\GWMT-clean\\utilities.py\u001b[0m in \u001b[0;36mlabel_distance\u001b[1;34m(a, b, metric)\u001b[0m\n\u001b[0;32m    213\u001b[0m     \u001b[1;32mif\u001b[0m \u001b[0mmetric\u001b[0m \u001b[1;33m==\u001b[0m \u001b[1;34m\"l2\"\u001b[0m\u001b[1;33m:\u001b[0m\u001b[1;33m\u001b[0m\u001b[1;33m\u001b[0m\u001b[0m\n\u001b[0;32m    214\u001b[0m         \u001b[1;32massert\u001b[0m \u001b[0mlen\u001b[0m\u001b[1;33m(\u001b[0m\u001b[0ma\u001b[0m\u001b[1;33m)\u001b[0m \u001b[1;33m==\u001b[0m \u001b[0mlen\u001b[0m\u001b[1;33m(\u001b[0m\u001b[0mb\u001b[0m\u001b[1;33m)\u001b[0m\u001b[1;33m\u001b[0m\u001b[1;33m\u001b[0m\u001b[0m\n\u001b[1;32m--> 215\u001b[1;33m         \u001b[1;32mreturn\u001b[0m \u001b[0mnp\u001b[0m\u001b[1;33m.\u001b[0m\u001b[0mlinalg\u001b[0m\u001b[1;33m.\u001b[0m\u001b[0mnorm\u001b[0m\u001b[1;33m(\u001b[0m\u001b[0ma\u001b[0m\u001b[1;33m-\u001b[0m\u001b[0mb\u001b[0m\u001b[1;33m)\u001b[0m\u001b[1;33m\u001b[0m\u001b[1;33m\u001b[0m\u001b[0m\n\u001b[0m\u001b[0;32m    216\u001b[0m     \u001b[1;32melse\u001b[0m\u001b[1;33m:\u001b[0m\u001b[1;33m\u001b[0m\u001b[1;33m\u001b[0m\u001b[0m\n\u001b[0;32m    217\u001b[0m         \u001b[1;32mraise\u001b[0m \u001b[0mNotImplementedError\u001b[0m\u001b[1;33m\u001b[0m\u001b[1;33m\u001b[0m\u001b[0m\n",
      "\u001b[1;32m<__array_function__ internals>\u001b[0m in \u001b[0;36mnorm\u001b[1;34m(*args, **kwargs)\u001b[0m\n",
      "\u001b[1;32m~\\anaconda3\\lib\\site-packages\\numpy\\linalg\\linalg.py\u001b[0m in \u001b[0;36mnorm\u001b[1;34m(x, ord, axis, keepdims)\u001b[0m\n\u001b[0;32m   2528\u001b[0m                 \u001b[0msqnorm\u001b[0m \u001b[1;33m=\u001b[0m \u001b[0mdot\u001b[0m\u001b[1;33m(\u001b[0m\u001b[0mx\u001b[0m\u001b[1;33m.\u001b[0m\u001b[0mreal\u001b[0m\u001b[1;33m,\u001b[0m \u001b[0mx\u001b[0m\u001b[1;33m.\u001b[0m\u001b[0mreal\u001b[0m\u001b[1;33m)\u001b[0m \u001b[1;33m+\u001b[0m \u001b[0mdot\u001b[0m\u001b[1;33m(\u001b[0m\u001b[0mx\u001b[0m\u001b[1;33m.\u001b[0m\u001b[0mimag\u001b[0m\u001b[1;33m,\u001b[0m \u001b[0mx\u001b[0m\u001b[1;33m.\u001b[0m\u001b[0mimag\u001b[0m\u001b[1;33m)\u001b[0m\u001b[1;33m\u001b[0m\u001b[1;33m\u001b[0m\u001b[0m\n\u001b[0;32m   2529\u001b[0m             \u001b[1;32melse\u001b[0m\u001b[1;33m:\u001b[0m\u001b[1;33m\u001b[0m\u001b[1;33m\u001b[0m\u001b[0m\n\u001b[1;32m-> 2530\u001b[1;33m                 \u001b[0msqnorm\u001b[0m \u001b[1;33m=\u001b[0m \u001b[0mdot\u001b[0m\u001b[1;33m(\u001b[0m\u001b[0mx\u001b[0m\u001b[1;33m,\u001b[0m \u001b[0mx\u001b[0m\u001b[1;33m)\u001b[0m\u001b[1;33m\u001b[0m\u001b[1;33m\u001b[0m\u001b[0m\n\u001b[0m\u001b[0;32m   2531\u001b[0m             \u001b[0mret\u001b[0m \u001b[1;33m=\u001b[0m \u001b[0msqrt\u001b[0m\u001b[1;33m(\u001b[0m\u001b[0msqnorm\u001b[0m\u001b[1;33m)\u001b[0m\u001b[1;33m\u001b[0m\u001b[1;33m\u001b[0m\u001b[0m\n\u001b[0;32m   2532\u001b[0m             \u001b[1;32mif\u001b[0m \u001b[0mkeepdims\u001b[0m\u001b[1;33m:\u001b[0m\u001b[1;33m\u001b[0m\u001b[1;33m\u001b[0m\u001b[0m\n",
      "\u001b[1;32m<__array_function__ internals>\u001b[0m in \u001b[0;36mdot\u001b[1;34m(*args, **kwargs)\u001b[0m\n",
      "\u001b[1;31mKeyboardInterrupt\u001b[0m: "
     ]
    }
   ],
   "source": [
    "# Step 1. We compute the maximum matched distance and the number of trajectories under each $(\\alpha, m)$ pair setting.\n",
    "plot_data = {\"alpha\": [],\n",
    "             \"m\": [], \n",
    "             \"max_matched_dist\": [], \n",
    "             \"num_trajectories\":[]}\n",
    "\n",
    "# We compute statistics with $m \\in [0.5, 1.0]$ at a gap of $0.01$.\n",
    "m_list = []\n",
    "for x in np.arange(0.50, 1 + 1e-6, 0.01):\n",
    "    m_list.append(round(x, 2))\n",
    "\n",
    "# This may take a while, since we need to compute 561 tracking results\n",
    "# We can adjust the grid search fine level based on needs to balance the accuracy and efficiency for parameter tuning\n",
    "for alpha in np.arange(0, 1.1, 0.1):\n",
    "    for m in m_list:\n",
    "        \n",
    "        # The optional parameter \"amijo\" determines the way for OT solver to converge, which may change the result\n",
    "        _, _, stat = pfgw.tracking(\n",
    "            timesteps,\n",
    "            alpha, \n",
    "            np.array((len(timesteps) - 1) * [m], dtype=float),\n",
    "            log=True,\n",
    "            amijo=amijo\n",
    "        )\n",
    "        \n",
    "        plot_data[\"alpha\"].append(alpha)\n",
    "        plot_data[\"m\"].append(m)\n",
    "        plot_data[\"max_matched_dist\"].append(stat[\"max_matched_dist\"])\n",
    "        plot_data[\"num_trajectories\"].append(stat[\"trajectory_num\"])\n",
    "\n",
    "# Saving the statistics into a file\n",
    "if timestep_gap <= 1:\n",
    "    parameter_tuning_path = os.path.join(\"parameter-tuning\", dataset)\n",
    "else:\n",
    "    parameter_tuning_path = os.path.join(\"parameter-tuning\", dataset + \"-\" + str(timestep_gap) + \"steps\")\n",
    "plot_data_df = pd.DataFrame(plot_data)\n",
    "plot_data_df.to_csv(os.path.join(parameter_tuning_path, \"stats_first_step.csv\"))"
   ]
  },
  {
   "cell_type": "code",
   "execution_count": 63,
   "id": "df956f81",
   "metadata": {},
   "outputs": [
    {
     "data": {
      "image/png": "[encoded data removed]",
      "text/plain": [
       "<Figure size 720x360 with 1 Axes>"
      ]
     },
     "metadata": {
      "needs_background": "light"
     },
     "output_type": "display_data"
    }
   ],
   "source": [
    "# Step 2. Using the statistics from Step 1, we plot the curve of maximum matched distance for each $\\alpha$ w.r.t. $m$\n",
    "\n",
    "from matplotlib import pyplot as plt\n",
    "\n",
    "# Preset elbow points. Only for experiments without time step subsampling.\n",
    "elbow_xs_dict = {\n",
    "    \"HeatedCylinder\": [0.96, 0.94, 0.94, 0.95, 0.95, 0.94, 0.94, 0.94, 0.84, 0.92, 0.88],\n",
    "    \"UnsteadyCylinderFlow\": [0.95, 0.96, 0.94, 0.96, 0.96, 0.96, 0.96, 0.98, 0.98, 0.98, 0.71],\n",
    "    \"VortexStreet\": [0.93, 0.93, 0.89, 0.84, 0.80, 0.77, 0.83, 0.83, 0.90, 0.91, 0.68],\n",
    "    \"IonizationFront\": [0.86, 0.83, 0.86, 0.88, 0.88, 0.85, 0.85, 0.85, 0.82, 0.83, 0.65],\n",
    "    \n",
    "    # Below: (with steps subsampling)\n",
    "    # \"HeatedCylinder\": [0.95, 0.95, 0.95, 0.95, 0.95, 0.95, 0.90, 0.86, 0.86, 0.86, 0.88],\n",
    "    # \"IonizationFront\": [0.76, 0.79, 0.80, 0.78, 0.68, 0.74, 0.70, 0.68, 0.65, 0.80, 0.78],\n",
    "    # \"UnsteadyCylinderFlow\": [0.71, 0.71, 0.66, 0.66, 0.62, 0.56, 0.50, 0.51, 0.89, 0.83, 0.70],\n",
    "}\n",
    "\n",
    "if timestep_gap <= 1:\n",
    "    parameter_tuning_path = os.path.join(\"parameter-tuning\", dataset)\n",
    "else:\n",
    "    parameter_tuning_path = os.path.join(\"parameter-tuning\", dataset + \"-\" + str(timestep_gap) + \"steps\")\n",
    "stat_df = pd.read_csv(os.path.join(parameter_tuning_path, \"stats_first_step.csv\"))\n",
    "\n",
    "plt.figure(figsize=(10, 5))\n",
    "ax = plt.gca()\n",
    "alpha_list = np.arange(0.0, 1.01, 0.1)\n",
    "\n",
    "colors = [\"green\", \"orange\", \"magenta\", \"cyan\", \"red\", \"blue\", \"yellow\"]\n",
    "styles = [\"--\", \"-.\", \"-\"]\n",
    "cnt = -1\n",
    "for alpha in alpha_list:\n",
    "    cnt += 1\n",
    "    alpha = round(alpha, 1)\n",
    "    alpha_str = str(alpha)\n",
    "    df_sub = stat_df[(abs(stat_df[\"alpha\"] - alpha) < 1e-10)]\n",
    "    if len(df_sub) < 1:\n",
    "        continue\n",
    "    df_sub_rename = df_sub.rename(columns={\"max_matched_dist\": \"\\u03B1=\" + str(alpha)})\n",
    "    df_sub_rename.plot(x=\"m\", y=\"\\u03B1=\" + str(alpha), color=colors[cnt%7], linestyle=styles[cnt%3], ax=ax, linewidth=2)\n",
    "\n",
    "# We need to find the x-coordinate of the elbow point for each $\\alpha$ curve manually\n",
    "elbow_xs = elbow_xs_dict[dataset]\n",
    "elbow_ys = []\n",
    "\n",
    "x_min, x_max = plt.xlim()\n",
    "y_min, y_max = plt.ylim()\n",
    "\n",
    "for e, elbow in enumerate(elbow_xs):\n",
    "    y = stat_df[(abs(stat_df[\"m\"] - elbow) < 1e-6) & (abs(stat_df[\"alpha\"] - e/10) < 1e-6)][\"max_matched_dist\"].tolist()[0]\n",
    "    ypos = (y-y_min)/(y_max-y_min)\n",
    "    elbow_ys.append(y)\n",
    "    plt.axvline(x=elbow, ymin=0, ymax=ypos, linestyle=\":\")\n",
    "\n",
    "    xpos = (elbow-x_min)/(x_max-x_min)\n",
    "    plt.axhline(y=y, xmin=0, xmax=xpos, linestyle=\":\")\n",
    "\n",
    "plt.xlabel(\"m\", fontsize=16)\n",
    "plt.ylabel(\"L\", fontsize=16)\n",
    "plt.legend(loc=2, prop={\"size\": 12})\n",
    "plt.xticks(fontweight=\"bold\")\n",
    "plt.yticks(fontweight=\"bold\")\n",
    "# plt.show()\n",
    "plt.savefig(os.path.join(parameter_tuning_path, dataset + \"-L-star.jpg\"))\n",
    "\n",
    "# To avoid rounding issues in practice, we slightly increase L* by a small number\n",
    "L_star_list = [ i + 1e-6 for i in elbow_ys ]"
   ]
  },
  {
   "cell_type": "code",
   "execution_count": null,
   "id": "7b046eb8",
   "metadata": {},
   "outputs": [],
   "source": [
    "print(L_star_list)"
   ]
  },
  {
   "cell_type": "code",
   "execution_count": null,
   "id": "2363f3d9",
   "metadata": {},
   "outputs": [],
   "source": [
    "# Step 3. Using the L* information, we adaptatively find the optimal $m$ value for matching between each adjacent time steps\n",
    "\n",
    "plot_data = {\"alpha\": [],\n",
    "             \"num_trajectories\": [], \n",
    "             \"max_matched_dist\": []}\n",
    "\n",
    "\n",
    "if timestep_gap <= 1:\n",
    "    parameter_tuning_path = os.path.join(\"parameter-tuning\", dataset)\n",
    "else:\n",
    "    parameter_tuning_path = os.path.join(\"parameter-tuning\", dataset + \"-\" + str(timestep_gap) + \"steps\")\n",
    "for e, alpha in enumerate(np.arange(0.0, 1.01, 0.1)):\n",
    "    print(\"Alpha, L_star = {}, {}\".format(str(alpha), str(L_star_list[e])))\n",
    "    \n",
    "    # \"adaptive_m_tuning\" is a member function of GWTracking for parameter tuning given the L-star value\n",
    "    # You can customize the value of $m$ you want the framework to try by adjusting m_tuning_range\n",
    "    num_trajectories, adaptive_ms, max_matched_dist = pfgw.adaptive_m_tuning(\n",
    "        timesteps,\n",
    "        alpha,\n",
    "        matched_dist_limit=L_star_list[e],\n",
    "        amijo=amijo, \n",
    "        m_tuning_range=np.arange(0.5, 1+1e-6, 0.01),\n",
    "    )\n",
    "    \n",
    "    if len(adaptive_ms) > 0:\n",
    "        np.savetxt(os.path.join(parameter_tuning_path, \"adaptive_m_alpha_{}.txt\".format(str(round(alpha, 1)))),\n",
    "                   adaptive_ms)\n",
    "    plot_data[\"alpha\"].append(alpha)\n",
    "    plot_data[\"num_trajectories\"].append(num_trajectories)\n",
    "    plot_data[\"max_matched_dist\"].append(max_matched_dist)\n",
    "\n",
    "plot_data_df = pd.DataFrame(plot_data)\n",
    "plot_data_df.to_csv(os.path.join(parameter_tuning_path, \"stats_second_step.csv\"))"
   ]
  },
  {
   "cell_type": "code",
   "execution_count": 64,
   "id": "a09175a2",
   "metadata": {
    "scrolled": true
   },
   "outputs": [
    {
     "name": "stdout",
     "output_type": "stream",
     "text": [
      "# of Trajectories:  [51, 17, 17, 17, 17, 17, 17, 17, 17, 17, 20]\n",
      "Max Matched Distance:  [0.0253671562082777, 0.0253671562082777, 0.0253671562082777, 0.0253671562082777, 0.0253671562082777, 0.0253671562082777, 0.0253671562082777, 0.0253671562082777, 0.0253671562082777, 0.0253671562082777, 0.0961374420688634]\n"
     ]
    },
    {
     "data": {
      "image/png": "[encoded data removed]",
      "text/plain": [
       "<Figure size 936x432 with 2 Axes>"
      ]
     },
     "metadata": {
      "needs_background": "light"
     },
     "output_type": "display_data"
    }
   ],
   "source": [
    "# Step 4. We plot N and L based on the optimal tracking results for each $\\alpha$\n",
    "# We choose the $\\alpha$ that minimizes both N and L, if applicable\n",
    "# If N and L are not minimized at the same time, the choice should be made to balancely reduce these two evaluation metrics.\n",
    "\n",
    "if timestep_gap <= 1:\n",
    "    parameter_tuning_path = os.path.join(\"parameter-tuning\", dataset)\n",
    "else:\n",
    "    parameter_tuning_path = os.path.join(\"parameter-tuning\", dataset + \"-\" + str(timestep_gap) + \"steps\")\n",
    "csv_file = os.path.join(parameter_tuning_path, \"stats_second_step.csv\")\n",
    "df = pd.read_csv(csv_file)\n",
    "\n",
    "df = df[(df[\"num_trajectories\"] > 0)]\n",
    "\n",
    "alpha_list = np.arange(0, 1.1, 0.1)\n",
    "actual_alpha_list = []\n",
    "num_trajectories = []\n",
    "max_dists = []\n",
    "for alpha in alpha_list:\n",
    "    alpha = round(alpha, 1)\n",
    "    alpha_str = str(alpha)\n",
    "    df_sub = df[(abs(df[\"alpha\"] - alpha) < 1e-10)]\n",
    "    if len(df_sub) < 1:\n",
    "        continue\n",
    "    actual_alpha_list.append(alpha)\n",
    "    num_trajectories.append(df_sub[\"num_trajectories\"].tolist()[0])\n",
    "    max_dists.append(df_sub[\"max_matched_dist\"].tolist()[0])\n",
    "\n",
    "print(\"# of Trajectories: \", num_trajectories)\n",
    "plt.figure(figsize=(13, 6))\n",
    "plt.subplot(121)\n",
    "plt.plot(actual_alpha_list, num_trajectories, \"-.b\", label=\"N\", linewidth=3)\n",
    "plt.legend(prop={\"size\": 16})\n",
    "plt.xticks(actual_alpha_list, fontweight=\"bold\")\n",
    "if dataset == \"HeatedCylinder\":\n",
    "    plt.yticks([23, 24, 25], fontweight=\"bold\")\n",
    "elif dataset == \"IonizationFront\":\n",
    "    plt.ylim([54,64])\n",
    "    plt.yticks(range(54,65), fontweight=\"bold\")\n",
    "elif dataset == \"UnsteadyCylinderFlow\":\n",
    "    plt.ylim([43,53])\n",
    "    plt.yticks(range(43,54), fontweight=\"bold\")\n",
    "else:\n",
    "    plt.yticks(fontweight=\"bold\")\n",
    "plt.xlabel(\"\\u03B1\", fontsize=16)\n",
    "plt.ylabel(\"N\", fontsize=16)\n",
    "\n",
    "print(\"Max Matched Distance: \", max_dists)\n",
    "plt.subplot(122)\n",
    "plt.plot(actual_alpha_list, max_dists, \"-.r\", label=\"L\", linewidth=3)\n",
    "plt.legend(prop={\"size\": 16})\n",
    "plt.xticks(actual_alpha_list, fontweight=\"bold\")\n",
    "plt.yticks(fontweight=\"bold\")\n",
    "plt.xlabel(\"\\u03B1\", fontsize=16)\n",
    "plt.ylabel(\"L\", fontsize=16)\n",
    "\n",
    "plt.savefig(os.path.join(parameter_tuning_path, dataset + \"-NL.jpg\"))"
   ]
  },
  {
   "cell_type": "markdown",
   "id": "83a0c7b3",
   "metadata": {},
   "source": [
    "### Note\n",
    "\n",
    "Here are our choices for $\\alpha$.\n",
    "\n",
    "HeatedCylinder:\n",
    "- When $\\alpha \\in \\{0.0, 0.1, 0.2, 0.4, 0.6, 0.8\\}$, we get the second minimum $L$ ($=0.00997$) and the second minimum $N$ ($=24$);\n",
    "- When $\\alpha \\in \\{0.3, 0.5, 0.7\\}$, we get the minimum $L$ ($=0.00498$) and the third minimum $N$ ($=25$);\n",
    "- When $\\alpha=0.9$, we get the minimum $N$($=23$), but $L=0.05026$ is too high to produce plausible tracking results.\n",
    "- We report $\\alpha=0.1$. Given that both $L=0.00498$ and $L=0.00997$ are very small distances within the field ($<1\\%$ of the field length), we try to minimize $N$ in priority among the options within the range of $[0.0, 0.8]$ for $\\alpha$.\n",
    "\n",
    "VortexStreet:\n",
    "- When $\\alpha \\in [0.1, 0.9]$, both $N$($=17$) and $L$($=0.02537$) are minimized. We report $\\alpha=0.1$.\n",
    "\n",
    "UnsteadyCylinderFlow: \n",
    "- When $\\alpha \\in \\{0.0, 0.1, 0.5, 0.6, 0.7, 0.8, 0.9\\}$, both $N$($=44$) and $L$($=0.03768$) are minimized. We report $\\alpha=0.1$.\n",
    "\n",
    "IonizationFront: \n",
    "- Quick note: in the paper, we exclude trajectories near the backward boundary as we consider them to be boundary issues. The reported number of tracks is $4$ fewer than the statistic here.\n",
    "- When $\\alpha \\in \\{0.4, 0.5\\}$, we get the minimum $N$ ($=55$) and second minimum $L$ ($=0.02693$).  \n",
    "- When $\\alpha=0.3$, we get the third minimum $N$ ($=57$) and the minimum $L$ ($=0.02093$).\n",
    "- We report $\\alpha=0.4$, because we see no obvious mismatching in the tracking result when $\\alpha=0.4$ even the $L$ is not completely minimized. Besides, $L=0.02693$ ($2.7\\%$ of the field length) in this case is a reasonable distance in the field, given how fast features move in this dataset.\n"
   ]
  },
  {
   "cell_type": "markdown",
   "id": "43f0357a",
   "metadata": {},
   "source": []
  }
 ],
 "metadata": {
  "kernelspec": {
   "display_name": "venv",
   "language": "python",
   "name": "venv"
  },
  "language_info": {
   "codemirror_mode": {
    "name": "ipython",
    "version": 3
   },
   "file_extension": ".py",
   "mimetype": "text/x-python",
   "name": "python",
   "nbconvert_exporter": "python",
   "pygments_lexer": "ipython3",
   "version": "3.8.8"
  },
  "vscode": {
   "interpreter": {
    "hash": "31f2aee4e71d21fbe5cf8b01ff0e069b9275f58929596ceb00d14d90e3e16cd6"
   }
  }
 },
 "nbformat": 4,
 "nbformat_minor": 5
}
